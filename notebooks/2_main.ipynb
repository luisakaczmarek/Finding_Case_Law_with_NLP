{
  "cells": [
    {
      "cell_type": "markdown",
      "metadata": {
        "id": "3jFIaWzcWQDX"
      },
      "source": [
        "# Legal Case retrieval, summary and question answering"
      ]
    },
    {
      "cell_type": "markdown",
      "metadata": {
        "id": "sk-Az6kaWQDZ"
      },
      "source": [
        "Topic based"
      ]
    },
    {
      "cell_type": "code",
      "execution_count": 1,
      "metadata": {
        "id": "Gm5BeLSBWQDa"
      },
      "outputs": [],
      "source": [
        "! pip install -q sentence_transformers\n",
        "\n",
        "import numpy as np\n",
        "import pandas as pd\n",
        "from tqdm import tqdm\n",
        "\n",
        "import matplotlib.pyplot as plt\n",
        "import seaborn as sns\n",
        "import plotly.express as px\n",
        "\n",
        "from sklearn.feature_extraction.text import CountVectorizer, TfidfVectorizer\n",
        "from sklearn.metrics.pairwise import pairwise_distances\n",
        "from sklearn.decomposition import PCA\n",
        "from sklearn.preprocessing import StandardScaler\n",
        "\n",
        "import spacy\n",
        "\n",
        "from\\\n",
        " sentence_transformers import SentenceTransformer"
      ]
    },
    {
      "cell_type": "code",
      "execution_count": 2,
      "metadata": {
        "id": "iMuy92oeWQDc"
      },
      "outputs": [],
      "source": [
        "import zipfile\n",
        "import os\n",
        "\n",
        "# Unzip the extracted_texts.zip file\n",
        "zip_path = \"/content/extracted_texts.zip\"  # File is in the same folder as the notebook\n",
        "output_folder = \"/content\"  # Extract to a folder in the same directory\n",
        "\n",
        "# Extract files directly into the current folder (no nested structure)\n",
        "with zipfile.ZipFile(zip_path, 'r') as zip_ref:\n",
        "    for file in zip_ref.namelist():\n",
        "        zip_ref.extract(file, output_folder)\n",
        "\n",
        "# Read all text files and apply BERT embeddings\n",
        "text_files = [f for f in os.listdir(\"/content/extracted_texts\") if f.endswith(\".txt\")]\n",
        "\n",
        "documents = {}  # Initialize an empty dictionary\n",
        "\n",
        "for text_file in text_files:\n",
        "    text_file_path = os.path.join(output_folder, 'extracted_texts', text_file)\n",
        "    case_number = os.path.splitext(text_file)[0]  # Extract case number from file name\n",
        "\n",
        "    with open(text_file_path, \"r\", encoding=\"utf-8\") as file:\n",
        "        documents[case_number] = file.read()"
      ]
    },
    {
      "cell_type": "markdown",
      "source": [
        "# Part 0:  'Preprocess' / Embedding the cases"
      ],
      "metadata": {
        "id": "LABhudyauuZ2"
      }
    },
    {
      "cell_type": "code",
      "source": [
        "from sentence_transformers import SentenceTransformer, util\n",
        "import numpy as np\n",
        "\n",
        "# Note: as legalbert and legal-pegasus are no sentence-embedding models, we cannot use them for the embeddings.\n",
        "# Hence, we use the RobertA base sentence transfromer:\n",
        "\n",
        "model = SentenceTransformer(\"Stern5497/sbert-legal-xlm-roberta-base\")\n",
        "\n",
        "\n",
        "case_numbers = list(documents.keys())\n",
        "case_texts = list(documents.values())\n",
        "\n",
        "case_embeddings = model.encode(case_texts, show_progress_bar=False)"
      ],
      "metadata": {
        "id": "5B7poGNfvNti",
        "colab": {
          "base_uri": "https://localhost:8080/"
        },
        "outputId": "3aeb5e19-cb05-4414-9901-6a03c8d726e2"
      },
      "execution_count": 3,
      "outputs": [
        {
          "output_type": "stream",
          "name": "stderr",
          "text": [
            "/usr/local/lib/python3.11/dist-packages/huggingface_hub/utils/_auth.py:94: UserWarning: \n",
            "The secret `HF_TOKEN` does not exist in your Colab secrets.\n",
            "To authenticate with the Hugging Face Hub, create a token in your settings tab (https://huggingface.co/settings/tokens), set it as secret in your Google Colab and restart your session.\n",
            "You will be able to reuse this secret in all of your notebooks.\n",
            "Please note that authentication is recommended but still optional to access public models or datasets.\n",
            "  warnings.warn(\n"
          ]
        }
      ]
    },
    {
      "cell_type": "code",
      "source": [
        "from sentence_transformers import SentenceTransformer, util\n",
        "import numpy as np\n",
        "\n",
        "model = SentenceTransformer('nlpaueb/legal-bert-base-uncased')\n",
        "\n",
        "\n",
        "case_numbers = list(documents.keys())\n",
        "case_texts = list(documents.values())\n",
        "\n",
        "case_embeddings = model.encode(case_texts, show_progress_bar=False) # GLobal variable!"
      ],
      "metadata": {
        "id": "2d9uovxMuguD",
        "colab": {
          "base_uri": "https://localhost:8080/"
        },
        "outputId": "8826fbfe-8773-49f4-ffe6-9cc03e1e3249"
      },
      "execution_count": 4,
      "outputs": [
        {
          "output_type": "stream",
          "name": "stderr",
          "text": [
            "WARNING:sentence_transformers.SentenceTransformer:No sentence-transformers model found with name nlpaueb/legal-bert-base-uncased. Creating a new one with mean pooling.\n"
          ]
        }
      ]
    },
    {
      "cell_type": "markdown",
      "metadata": {
        "id": "naviOKCvWQDd"
      },
      "source": [
        "# Part 1: Retrieving most similar cases based on legal-xlm-Roberta embeddings"
      ]
    },
    {
      "cell_type": "code",
      "execution_count": 5,
      "metadata": {
        "id": "HuxOT1rIWQDe"
      },
      "outputs": [],
      "source": [
        "def find_most_similar_cases(query_text, k=5):\n",
        "    \"\"\"\n",
        "    Returns the top-k most similar case numbers to the input query.\n",
        "    Args:\n",
        "        query_text (str): The legal query.\n",
        "        k (int): Number of top cases to return.\n",
        "\n",
        "    Returns:\n",
        "        List of case numbers (strings) ranked by similarity.\n",
        "    \"\"\"\n",
        "    if not query_text.strip():\n",
        "        raise ValueError(\"Query text is empty.\")\n",
        "\n",
        "    query_embedding = model.encode(query_text)\n",
        "    similarities = util.cos_sim(query_embedding, case_embeddings)[0]  # shape: (N,)\n",
        "\n",
        "    top_k_indices = np.argsort(similarities.numpy())[::-1][:k]\n",
        "    top_k_case_numbers = [case_numbers[i] for i in top_k_indices]\n",
        "\n",
        "    return top_k_case_numbers\n"
      ]
    },
    {
      "cell_type": "code",
      "source": [
        "# Example usage:\n",
        "query = \"This is a query about a specific legal case.\"\n",
        "most_similar_case_number = find_most_similar_cases(query, 1)\n",
        "print(f\"The most similar case is case: {most_similar_case_number}\")"
      ],
      "metadata": {
        "id": "ibFEjW4PZ_C-",
        "colab": {
          "base_uri": "https://localhost:8080/"
        },
        "outputId": "f02f56f0-3108-4e60-9af6-21101c2bd0e6"
      },
      "execution_count": 6,
      "outputs": [
        {
          "output_type": "stream",
          "name": "stdout",
          "text": [
            "The most similar case is case: ['21-00285-2023-12-22']\n"
          ]
        }
      ]
    },
    {
      "cell_type": "markdown",
      "source": [
        "**Viusalising embeddings in a 2-dimensional space**"
      ],
      "metadata": {
        "id": "W3vfH7omlVX5"
      }
    },
    {
      "cell_type": "code",
      "source": [
        "from sklearn.manifold import TSNE\n",
        "import matplotlib.pyplot as plt\n",
        "\n",
        "# Apply t-SNE to reduce dimensionality to 2\n",
        "tsne = TSNE(n_components=2, random_state=42)  # You can adjust the random_state for reproducibility\n",
        "embeddings_2d = tsne.fit_transform(case_embeddings)\n",
        "\n",
        "# Create a scatter plot\n",
        "plt.figure(figsize=(10, 8))  # Adjust figure size as needed\n",
        "plt.scatter(embeddings_2d[:, 0], embeddings_2d[:, 1])\n",
        "plt.title(\"Visualization of Case Embeddings using t-SNE\")\n",
        "plt.xlabel(\"Dimension 1\")\n",
        "plt.ylabel(\"Dimension 2\")\n",
        "\n",
        "# Optionally, add labels for each point (case number)\n",
        "# for i, case_number in enumerate(case_numbers):\n",
        "#     plt.annotate(case_number, (embeddings_2d[i, 0], embeddings_2d[i, 1]))\n",
        "\n",
        "plt.show()  # Display the plot"
      ],
      "metadata": {
        "id": "JcEz6CDalG3a",
        "colab": {
          "base_uri": "https://localhost:8080/",
          "height": 703
        },
        "outputId": "bbc58ced-955f-4ef5-f521-7a48b1aa7d39"
      },
      "execution_count": 7,
      "outputs": [
        {
          "output_type": "display_data",
          "data": {
            "text/plain": [
              "<Figure size 1000x800 with 1 Axes>"
            ],
            "image/png": "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\n"
          },
          "metadata": {}
        }
      ]
    },
    {
      "cell_type": "markdown",
      "source": [
        "-> many cases seem to have a broad distribution amongst the 2 dimensionallities extracted. However, some have a distinct grouping.\n",
        "\n",
        "This in itself, however, is not yet an indication whether our model embeddings have meaning or not, but rather how well the reduction to those two dimensions are able to capture them."
      ],
      "metadata": {
        "id": "PxDnAqoDnh5i"
      }
    },
    {
      "cell_type": "markdown",
      "source": [
        "**Example usages**"
      ],
      "metadata": {
        "id": "ovW7MNXatbIp"
      }
    },
    {
      "cell_type": "code",
      "source": [
        "def get_case_url(case_number):\n",
        "    # Extract the first segment (e.g., \"16\" from \"16-00138-2023-06-23\")\n",
        "    prefix = '-'.join(case_number.split('-')[:2])\n",
        "    # Construct the URL\n",
        "    url = f\"https://law.justia.com/cases/federal/appellate-courts/cit/{prefix}/{case_number}.html\"\n",
        "    return url"
      ],
      "metadata": {
        "id": "I1cH4zFPtVZO"
      },
      "execution_count": 8,
      "outputs": []
    },
    {
      "cell_type": "code",
      "source": [
        "# testing many example queries:\n",
        "\n",
        "queries = [\n",
        "    \"Which cases relate to patent infringement?\",\n",
        "    \"What are the recent decisions on trademark law?\",\n",
        "    \"Find cases involving government contracts.\",\n",
        "    \"Which cases deal with the doctrine of equivalents?\",\n",
        "    \"Find cases about induced infringement.\",\n",
        "    \"Show me cases related to claim construction.\",\n",
        "    \"What are the recent decisions on patent eligibility under 35 U.S.C. § 101?\",\n",
        "    \"Find cases involving the written description requirement.\",\n",
        "    \"Show me cases related to enablement in patent law.\",\n",
        "    \"Which cases discuss the best mode requirement?\",\n",
        "    \"Find cases about the on-sale bar.\",\n",
        "    \"Show me cases related to prior art.\",\n",
        "    \"What are the recent decisions on inequitable conduct?\",\n",
        "    \"I am looking for cases that deal with the issue of induced infringement of a design patent where the defendant is accused of encouraging or inducing others to infringe the patent.\"]"
      ],
      "metadata": {
        "id": "Skbh5qjRz6Wf"
      },
      "execution_count": 9,
      "outputs": []
    },
    {
      "cell_type": "code",
      "source": [
        "def display_most_similar_cases(query, k): # USE FOR STREAMLIT\n",
        "    \"\"\"\n",
        "    Finds and prints the top-k most similar cases to the query,\n",
        "    along with clickable URLs.\n",
        "\n",
        "    Args:\n",
        "        query (str): The legal question or input.\n",
        "        k (int): Number of top matches to return.\n",
        "    \"\"\"\n",
        "    most_similar_case_numbers = find_most_similar_cases(query, k)\n",
        "\n",
        "    print(f\"\\n📚 Top {k} Most Similar Cases for: \\\"{query}\\\"\\n\" + \"=\" * 60)\n",
        "    for i, case_number in enumerate(most_similar_case_numbers, start=1):\n",
        "        url = get_case_url(case_number)\n",
        "        print(f\"\\n🔹 Case #{i}: {case_number}\")\n",
        "        print(f\"🔗 Open: {url}\")\n",
        "    print(\"=\" * 60 + \"\\n\")\n"
      ],
      "metadata": {
        "id": "LtxHNqJraMMJ"
      },
      "execution_count": 10,
      "outputs": []
    },
    {
      "cell_type": "code",
      "source": [
        "display_most_similar_cases(queries[0], 3)"
      ],
      "metadata": {
        "id": "vsGlXybNa_AW",
        "colab": {
          "base_uri": "https://localhost:8080/"
        },
        "outputId": "b7b4abde-147e-457e-808d-e22f1ab29633"
      },
      "execution_count": 11,
      "outputs": [
        {
          "output_type": "stream",
          "name": "stdout",
          "text": [
            "\n",
            "📚 Top 3 Most Similar Cases for: \"Which cases relate to patent infringement?\"\n",
            "============================================================\n",
            "\n",
            "🔹 Case #1: 21-00285-2023-12-22\n",
            "🔗 Open: https://law.justia.com/cases/federal/appellate-courts/cit/21-00285/21-00285-2023-12-22.html\n",
            "\n",
            "🔹 Case #2: 23-00153-2024-12-18\n",
            "🔗 Open: https://law.justia.com/cases/federal/appellate-courts/cit/23-00153/23-00153-2024-12-18.html\n",
            "\n",
            "🔹 Case #3: 24-00033-2024-11-26\n",
            "🔗 Open: https://law.justia.com/cases/federal/appellate-courts/cit/24-00033/24-00033-2024-11-26.html\n",
            "============================================================\n",
            "\n"
          ]
        }
      ]
    },
    {
      "cell_type": "markdown",
      "source": [
        "# Part 2 — Using a legal-specific LLM: Recieve summaries of the most Relevant cases, based on legal pegasus"
      ],
      "metadata": {
        "id": "CtLXHPZj0oIT"
      }
    },
    {
      "cell_type": "code",
      "source": [
        "from transformers import AutoTokenizer, AutoModelForSeq2SeqLM, pipeline\n",
        "\n",
        "# Load Legal-Pegasus for summarization\n",
        "tokenizer = AutoTokenizer.from_pretrained(\"nsi319/legal-pegasus\")\n",
        "legal_pegasus_model = AutoModelForSeq2SeqLM.from_pretrained(\"nsi319/legal-pegasus\")\n",
        "summarizer = pipeline(\"summarization\", model=legal_pegasus_model, tokenizer=tokenizer)\n",
        "\n",
        "def summarize_legal_cases(query, documents, case_embeddings, case_numbers, embedding_model, top_k=5, verbose=True):\n",
        "    \"\"\"\n",
        "    Summarizes the top_k most relevant legal cases to the given query.\n",
        "\n",
        "    Args:\n",
        "        query (str): Legal query from the user.\n",
        "        documents (dict): Dictionary of case_number -> case_text.\n",
        "        case_embeddings (np.array): Embeddings of the case texts.\n",
        "        case_numbers (list): Case identifiers, same order as case_embeddings.\n",
        "        embedding_model (SentenceTransformer): SBERT model for computing query embedding.\n",
        "        top_k (int): Number of top similar cases to summarize.\n",
        "        verbose (bool): Whether to print formatted summaries.\n",
        "\n",
        "    Returns:\n",
        "        List of dictionaries containing case number and summary.\n",
        "    \"\"\"\n",
        "    query_embedding = embedding_model.encode(query)\n",
        "    similarities = util.cos_sim(query_embedding, case_embeddings)[0]\n",
        "    top_k_indices = np.argsort(similarities.numpy())[::-1][:top_k]\n",
        "\n",
        "    summaries = []\n",
        "\n",
        "    if verbose:\n",
        "        print(f\"\\n📚 Top {top_k} Case Summaries for Query: \\\"{query}\\\"\\n\" + \"=\" * 70)\n",
        "\n",
        "    for idx, i in enumerate(top_k_indices, start=1):\n",
        "        case_number = case_numbers[i]\n",
        "        case_text = documents[case_number]\n",
        "\n",
        "        try:\n",
        "            summary = summarizer(case_text, max_length=130, min_length=30, do_sample=False)\n",
        "            summary_text = summary[0][\"summary_text\"].strip()\n",
        "        except Exception as e:\n",
        "            summary_text = f\"⚠️ Failed to summarize case {case_number}: {str(e)}\"\n",
        "\n",
        "        summaries.append({\n",
        "            \"case_number\": case_number,\n",
        "            \"summary\": summary_text\n",
        "        })\n",
        "\n",
        "        if verbose:\n",
        "            print(f\"\\n🔹 Case #{idx}: {case_number}\")\n",
        "            print(f\"📝 Summary:\\n{summary_text}\")\n",
        "            print(\"-\" * 70)\n",
        "\n",
        "    return summaries\n"
      ],
      "metadata": {
        "id": "GDof5gR6VwxY",
        "colab": {
          "base_uri": "https://localhost:8080/"
        },
        "outputId": "22aedb18-a310-4477-cdcb-a3146ab0ca9b"
      },
      "execution_count": 12,
      "outputs": [
        {
          "output_type": "stream",
          "name": "stderr",
          "text": [
            "Device set to use cuda:0\n"
          ]
        }
      ]
    },
        {
      "cell_type": "code",
      "source": [
        "\n",
        "embedding_model = SentenceTransformer(\"Stern5497/sbert-legal-xlm-roberta-base\", device='cpu')\n",
        "\n",
        "summarize_legal_cases(\n",
        "    query=\"Can a tenant be evicted without written notice?\",\n",
        "    documents=documents,\n",
        "    case_embeddings=case_embeddings,\n",
        "    case_numbers=case_numbers,\n",
        "    embedding_model=model,\n",
        "    top_k=3\n",
        ")\n"
      ],
      "metadata": {
        "colab": {
          "base_uri": "https://localhost:8080/"
        },
        "id": "733MGKNV6BgQ",
        "outputId": "50176e64-bf62-4079-cce0-3b21191877a7"
      },
      "execution_count": 13,
      "outputs": [
        {
          "output_type": "stream",
          "name": "stdout",
          "text": [
            "\n",
            "📚 Top 3 Case Summaries for Query: \"Can a tenant be evicted without written notice?\"\n",
            "======================================================================\n"
          ]
        },
        {
          "output_type": "stream",
          "name": "stderr",
          "text": [
            "Token indices sequence length is longer than the specified maximum sequence length for this model (10064 > 1024). Running this sequence through the model will result in indexing errors\n"
          ]
        },
        {
          "output_type": "stream",
          "name": "stdout",
          "text": [
            "\n",
            "🔹 Case #1: 21-00285-2023-12-22\n",
            "📝 Summary:\n",
            "On December 22, 2023, Judge Miller Baker of the U.S. District Court for the Southern District of New York granted the Department of Commerce's request for a redetermination of the antidumping duty case against Brooklyn BedDING, LLC. The court previously ordered the Department of Commerce to verify a Thai mattress importer's data insofar as the Department relied upon that data. The court subsequently ordered the Department to verify a Thai mattress importer's data in both the Commerce proceedings and this litigation. The importer subsequently withdrew from both the Commerce proceedings and this litigation.\n",
            "----------------------------------------------------------------------\n",
            "\n",
            "🔹 Case #2: 24-00033-2024-11-26\n",
            "📝 Summary:\n",
            "⚠️ Failed to summarize case 24-00033-2024-11-26: CUDA error: device-side assert triggered\n",
            "CUDA kernel errors might be asynchronously reported at some other API call, so the stacktrace below might be incorrect.\n",
            "For debugging consider passing CUDA_LAUNCH_BLOCKING=1\n",
            "Compile with `TORCH_USE_CUDA_DSA` to enable device-side assertions.\n",
            "----------------------------------------------------------------------\n",
            "\n",
            "🔹 Case #3: 21-00015-2024-12-13\n",
            "📝 Summary:\n",
            "⚠️ Failed to summarize case 21-00015-2024-12-13: CUDA error: device-side assert triggered\n",
            "CUDA kernel errors might be asynchronously reported at some other API call, so the stacktrace below might be incorrect.\n",
            "For debugging consider passing CUDA_LAUNCH_BLOCKING=1\n",
            "Compile with `TORCH_USE_CUDA_DSA` to enable device-side assertions.\n",
            "----------------------------------------------------------------------\n"
          ]
        },
        {
          "output_type": "execute_result",
          "data": {
            "text/plain": [
              "[{'case_number': '21-00285-2023-12-22',\n",
              "  'summary': 'On December 22, 2023, Judge Miller Baker of the U.S. District Court for the Southern District of New York granted the Department of Commerce\\'s request for a redetermination of the antidumping duty case against Brooklyn BedDING, LLC. The court previously ordered the Department of Commerce to verify a Thai mattress importer\\'s data insofar as the Department relied upon that data. The court subsequently ordered the Department to verify a Thai mattress importer\\'s data in both the Commerce proceedings and this litigation. The importer subsequently withdrew from both the Commerce proceedings and this litigation.'},\n",
              " {'case_number': '24-00033-2024-11-26',\n",
              "  'summary': '⚠️ Failed to summarize case 24-00033-2024-11-26: CUDA error: device-side assert triggered\\nCUDA kernel errors might be asynchronously reported at some other API call, so the stacktrace below might be incorrect.\\nFor debugging consider passing CUDA_LAUNCH_BLOCKING=1\\nCompile with `TORCH_USE_CUDA_DSA` to enable device-side assertions.\\n'},\n",
              " {'case_number': '21-00015-2024-12-13',\n",
              "  'summary': '⚠️ Failed to summarize case 21-00015-2024-12-13: CUDA error: device-side assert triggered\\nCUDA kernel errors might be asynchronously reported at some other API call, so the stacktrace below might be incorrect.\\nFor debugging consider passing CUDA_LAUNCH_BLOCKING=1\\nCompile with `TORCH_USE_CUDA_DSA` to enable device-side assertions.\\n'}]"
            ]
          },
          "metadata": {},
          "execution_count": 13
        }
      ]
    }
