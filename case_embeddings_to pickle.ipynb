{
 "cells": [
  {
   "cell_type": "markdown",
   "metadata": {},
   "source": [
    "# Save Case Embeddings to Pickle"
   ]
  },
  {
   "cell_type": "code",
   "execution_count": 1,
   "metadata": {},
   "outputs": [],
   "source": [
    "folder_path = './extracted_texts'"
   ]
  },
  {
   "cell_type": "code",
   "execution_count": 4,
   "metadata": {},
   "outputs": [
    {
     "ename": "FileNotFoundError",
     "evalue": "[Errno 2] No such file or directory: './data/extracted_texts'",
     "output_type": "error",
     "traceback": [
      "\u001b[31m---------------------------------------------------------------------------\u001b[39m",
      "\u001b[31mFileNotFoundError\u001b[39m                         Traceback (most recent call last)",
      "\u001b[36mCell\u001b[39m\u001b[36m \u001b[39m\u001b[32mIn[4]\u001b[39m\u001b[32m, line 22\u001b[39m\n\u001b[32m     19\u001b[39m folder_path = os.path.join(\u001b[33m\"\u001b[39m\u001b[33m./data\u001b[39m\u001b[33m\"\u001b[39m, \u001b[33m\"\u001b[39m\u001b[33mextracted_texts\u001b[39m\u001b[33m\"\u001b[39m)\n\u001b[32m     21\u001b[39m \u001b[38;5;66;03m# Load the documents.\u001b[39;00m\n\u001b[32m---> \u001b[39m\u001b[32m22\u001b[39m documents = \u001b[43mload_documents\u001b[49m\u001b[43m(\u001b[49m\u001b[43mfolder_path\u001b[49m\u001b[43m)\u001b[49m\n\u001b[32m     23\u001b[39m \u001b[38;5;28mprint\u001b[39m(\u001b[33mf\u001b[39m\u001b[33m\"\u001b[39m\u001b[33mLoaded \u001b[39m\u001b[38;5;132;01m{\u001b[39;00m\u001b[38;5;28mlen\u001b[39m(documents)\u001b[38;5;132;01m}\u001b[39;00m\u001b[33m documents.\u001b[39m\u001b[33m\"\u001b[39m)\n\u001b[32m     25\u001b[39m \u001b[38;5;66;03m# Initialize the embedding model.\u001b[39;00m\n",
      "\u001b[36mCell\u001b[39m\u001b[36m \u001b[39m\u001b[32mIn[4]\u001b[39m\u001b[32m, line 10\u001b[39m, in \u001b[36mload_documents\u001b[39m\u001b[34m(folder_path)\u001b[39m\n\u001b[32m      8\u001b[39m documents = {}\n\u001b[32m      9\u001b[39m \u001b[38;5;66;03m# List only .txt files from the folder\u001b[39;00m\n\u001b[32m---> \u001b[39m\u001b[32m10\u001b[39m text_files = [f \u001b[38;5;28;01mfor\u001b[39;00m f \u001b[38;5;129;01min\u001b[39;00m \u001b[43mos\u001b[49m\u001b[43m.\u001b[49m\u001b[43mlistdir\u001b[49m\u001b[43m(\u001b[49m\u001b[43mfolder_path\u001b[49m\u001b[43m)\u001b[49m \u001b[38;5;28;01mif\u001b[39;00m f.endswith(\u001b[33m\"\u001b[39m\u001b[33m.txt\u001b[39m\u001b[33m\"\u001b[39m)]\n\u001b[32m     11\u001b[39m \u001b[38;5;28;01mfor\u001b[39;00m text_file \u001b[38;5;129;01min\u001b[39;00m tqdm(text_files, desc=\u001b[33m\"\u001b[39m\u001b[33mLoading documents\u001b[39m\u001b[33m\"\u001b[39m):\n\u001b[32m     12\u001b[39m     \u001b[38;5;66;03m# Use the file name (without extension) as the case number\u001b[39;00m\n\u001b[32m     13\u001b[39m     case_number = os.path.splitext(text_file)[\u001b[32m0\u001b[39m]\n",
      "\u001b[31mFileNotFoundError\u001b[39m: [Errno 2] No such file or directory: './data/extracted_texts'"
     ]
    }
   ],
   "source": [
    "import os\n",
    "import pickle\n",
    "from sentence_transformers import SentenceTransformer\n",
    "from tqdm import tqdm\n",
    "\n",
    "# Function to load documents from text files.\n",
    "def load_documents(folder_path):\n",
    "    documents = {}\n",
    "    # List only .txt files from the folder\n",
    "    text_files = [f for f in os.listdir(folder_path) if f.endswith(\".txt\")]\n",
    "    for text_file in tqdm(text_files, desc=\"Loading documents\"):\n",
    "        # Use the file name (without extension) as the case number\n",
    "        case_number = os.path.splitext(text_file)[0]\n",
    "        with open(os.path.join(folder_path, text_file), \"r\", encoding=\"utf-8\") as f:\n",
    "            documents[case_number] = f.read()\n",
    "    return documents\n",
    "\n",
    "# Define the folder where your documents are stored.\n",
    "folder_path = os.path.join(\"./data\", \"extracted_texts\")\n",
    "\n",
    "# Load the documents.\n",
    "documents = load_documents(folder_path)\n",
    "print(f\"Loaded {len(documents)} documents.\")\n",
    "\n",
    "# Initialize the embedding model.\n",
    "embedding_model = SentenceTransformer(\"Stern5497/sbert-legal-xlm-roberta-base\")\n",
    "\n",
    "# Compute embeddings for all documents.\n",
    "print(\"Computing case embeddings...\")\n",
    "case_embeddings = embedding_model.encode(list(documents.values()), show_progress_bar=True)\n",
    "\n",
    "# Retrieve the corresponding case numbers.\n",
    "case_numbers = list(documents.keys())\n",
    "\n",
    "# Package the case numbers and embeddings into a dictionary.\n",
    "embeddings_data = {\n",
    "    \"case_numbers\": case_numbers,\n",
    "    \"embeddings\": case_embeddings\n",
    "}\n",
    "\n",
    "# Specify the filename for the pickle file.\n",
    "pickle_filename = \"case_embeddings.pkl\"\n",
    "\n",
    "# Save the data to the pickle file.\n",
    "with open(pickle_filename, \"wb\") as f:\n",
    "    pickle.dump(embeddings_data, f)\n",
    "\n",
    "print(f\"Embeddings have been saved to {pickle_filename}\")\n"
   ]
  }
 ],
 "metadata": {
  "kernelspec": {
   "display_name": "venv_NLP",
   "language": "python",
   "name": "python3"
  },
  "language_info": {
   "codemirror_mode": {
    "name": "ipython",
    "version": 3
   },
   "file_extension": ".py",
   "mimetype": "text/x-python",
   "name": "python",
   "nbconvert_exporter": "python",
   "pygments_lexer": "ipython3",
   "version": "3.12.10"
  }
 },
 "nbformat": 4,
 "nbformat_minor": 2
}
