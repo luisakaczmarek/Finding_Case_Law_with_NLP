{
 "cells": [
  {
   "cell_type": "markdown",
   "metadata": {},
   "source": [
    "# Save Case Embeddings to Pickle"
   ]
  },
  {
   "cell_type": "code",
   "execution_count": 1,
   "metadata": {},
   "outputs": [],
   "source": [
    "folder_path = './data/extracted_texts'"
   ]
  },
  {
   "cell_type": "code",
   "execution_count": 2,
   "metadata": {},
   "outputs": [
    {
     "name": "stderr",
     "output_type": "stream",
     "text": [
      "/Users/luisakaczmarek/Desktop/NLP_project/venv_NLP/lib/python3.12/site-packages/tqdm/auto.py:21: TqdmWarning: IProgress not found. Please update jupyter and ipywidgets. See https://ipywidgets.readthedocs.io/en/stable/user_install.html\n",
      "  from .autonotebook import tqdm as notebook_tqdm\n",
      "Loading documents: 100%|██████████| 248/248 [00:00<00:00, 1428.74it/s]\n"
     ]
    },
    {
     "name": "stdout",
     "output_type": "stream",
     "text": [
      "Loaded 248 documents.\n",
      "Computing case embeddings...\n"
     ]
    },
    {
     "name": "stderr",
     "output_type": "stream",
     "text": [
      "Batches: 100%|██████████| 8/8 [02:02<00:00, 15.37s/it]"
     ]
    },
    {
     "name": "stdout",
     "output_type": "stream",
     "text": [
      "Embeddings have been saved to case_embeddings.pkl\n"
     ]
    },
    {
     "name": "stderr",
     "output_type": "stream",
     "text": [
      "\n"
     ]
    }
   ],
   "source": [
    "import os\n",
    "import pickle\n",
    "from sentence_transformers import SentenceTransformer\n",
    "from tqdm import tqdm\n",
    "\n",
    "# Function to load documents from text files.\n",
    "def load_documents(folder_path):\n",
    "    documents = {}\n",
    "    # List only .txt files from the folder\n",
    "    text_files = [f for f in os.listdir(folder_path) if f.endswith(\".txt\")]\n",
    "    for text_file in tqdm(text_files, desc=\"Loading documents\"):\n",
    "        # Use the file name (without extension) as the case number\n",
    "        case_number = os.path.splitext(text_file)[0]\n",
    "        with open(os.path.join(folder_path, text_file), \"r\", encoding=\"utf-8\") as f:\n",
    "            documents[case_number] = f.read()\n",
    "    return documents\n",
    "\n",
    "# Define the folder where your documents are stored.\n",
    "folder_path = os.path.join(\"./data\", \"extracted_texts\")\n",
    "\n",
    "# Load the documents.\n",
    "documents = load_documents(folder_path)\n",
    "print(f\"Loaded {len(documents)} documents.\")\n",
    "\n",
    "# Initialize the embedding model.\n",
    "embedding_model = SentenceTransformer(\"Stern5497/sbert-legal-xlm-roberta-base\")\n",
    "\n",
    "# Compute embeddings for all documents.\n",
    "print(\"Computing case embeddings...\")\n",
    "case_embeddings = embedding_model.encode(list(documents.values()), show_progress_bar=True)\n",
    "\n",
    "# Retrieve the corresponding case numbers.\n",
    "case_numbers = list(documents.keys())\n",
    "\n",
    "# Package the case numbers and embeddings into a dictionary.\n",
    "embeddings_data = {\n",
    "    \"case_numbers\": case_numbers,\n",
    "    \"embeddings\": case_embeddings\n",
    "}\n",
    "\n",
    "# Specify the filename for the pickle file.\n",
    "pickle_filename = \"case_embeddings.pkl\"\n",
    "\n",
    "# Save the data to the pickle file.\n",
    "with open(pickle_filename, \"wb\") as f:\n",
    "    pickle.dump(embeddings_data, f)\n",
    "\n",
    "print(f\"Embeddings have been saved to {pickle_filename}\")\n"
   ]
  }
 ],
 "metadata": {
  "kernelspec": {
   "display_name": "venv_NLP",
   "language": "python",
   "name": "python3"
  },
  "language_info": {
   "codemirror_mode": {
    "name": "ipython",
    "version": 3
   },
   "file_extension": ".py",
   "mimetype": "text/x-python",
   "name": "python",
   "nbconvert_exporter": "python",
   "pygments_lexer": "ipython3",
   "version": "3.12.10"
  }
 },
 "nbformat": 4,
 "nbformat_minor": 2
}
